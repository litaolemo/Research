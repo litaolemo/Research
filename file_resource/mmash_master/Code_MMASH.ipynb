{
 "cells": [
  {
   "cell_type": "markdown",
   "metadata": {
    "colab_type": "text",
    "id": "6c5Lldffuk3l"
   },
   "source": [
    "# Example of data extraction and analysis on MMSAH dataset"
   ]
  },
  {
   "cell_type": "markdown",
   "metadata": {
    "colab_type": "text",
    "id": "VglXhKPhwtUE"
   },
   "source": [
    "## Import Library"
   ]
  },
  {
   "cell_type": "code",
   "execution_count": 1,
   "metadata": {
    "colab": {},
    "colab_type": "code",
    "id": "m02YM_dQwsmC"
   },
   "outputs": [],
   "source": [
    "import os\n",
    "import pandas as pd\n",
    "import seaborn as sns\n",
    "import matplotlib.pyplot as plt\n",
    "import numpy as np\n",
    "from collections import Counter\n",
    "import numpy\n",
    "import scipy\n",
    "from scipy import stats\n",
    "import warnings\n",
    "warnings.filterwarnings(\"ignore\")"
   ]
  },
  {
   "cell_type": "code",
   "execution_count": 2,
   "metadata": {},
   "outputs": [],
   "source": [
    "from function_code import open_data, circadian, HRV_analysis"
   ]
  },
  {
   "cell_type": "markdown",
   "metadata": {},
   "source": [
    "## Download dataset"
   ]
  },
  {
   "cell_type": "code",
   "execution_count": 3,
   "metadata": {},
   "outputs": [],
   "source": [
    "# !pip install wfdb\n",
    "# import wfdb"
   ]
  },
  {
   "cell_type": "code",
   "execution_count": 4,
   "metadata": {},
   "outputs": [],
   "source": [
    "# !pip install wget\n",
    "# !wget -r -N -c -np https://physionet.org/files/mmash/1.0.0/"
   ]
  },
  {
   "cell_type": "code",
   "execution_count": 5,
   "metadata": {},
   "outputs": [],
   "source": [
    "# import os\n",
    "# url = 'https://physionet.org/files/mmash/1.0.0/'\n",
    "# os.system(\"\"\"wget -r -N -c -np https://physionet.org/files/mmash/1.0.0/\"\"\")"
   ]
  },
  {
   "cell_type": "markdown",
   "metadata": {
    "colab_type": "text",
    "id": "Bl6XFNmMwgZ5"
   },
   "source": [
    "## Analysis"
   ]
  },
  {
   "cell_type": "code",
   "execution_count": 6,
   "metadata": {
    "colab": {},
    "colab_type": "code",
    "id": "LqTZe_tewnej"
   },
   "outputs": [],
   "source": [
    "# path = 'MMASH/DataPaper/' # Select the path where the data are allocated\n",
    "path = '../multilevel-monitoring-of-activity-and-sleep-in-healthy-people-1.0.0/DataPaper' # Select the path where the data are allocated\n",
    "users = os.listdir(path)[:-1] # Cerate a list of users' name"
   ]
  },
  {
   "cell_type": "markdown",
   "metadata": {
    "colab_type": "text",
    "id": "YmBeVQPt46dX"
   },
   "source": [
    "### Antropometric characteristics"
   ]
  },
  {
   "cell_type": "code",
   "execution_count": 7,
   "metadata": {
    "colab": {},
    "colab_type": "code",
    "id": "P1Rnj6havq4Y"
   },
   "outputs": [],
   "source": [
    "df_antro = open_data.create_dataset(users,'user_info',path) # Import dataset with antropometric characteristics"
   ]
  },
  {
   "cell_type": "code",
   "execution_count": 8,
   "metadata": {
    "colab": {
     "base_uri": "https://localhost:8080/",
     "height": 143
    },
    "colab_type": "code",
    "executionInfo": {
     "elapsed": 6795,
     "status": "ok",
     "timestamp": 1579257470162,
     "user": {
      "displayName": "alessio rossi",
      "photoUrl": "https://lh3.googleusercontent.com/a-/AAuE7mA9aPDaCxlPOhekDnSc2YQpYYFiFrKFU-n6rP_Dag=s64",
      "userId": "02564430506191833573"
     },
     "user_tz": -60
    },
    "id": "E_9SLbUfUmUD",
    "outputId": "ee879935-4fb2-4e2b-b93d-75f9b0e3ebf0"
   },
   "outputs": [
    {
     "data": {
      "text/plain": "        count        mean        std    min    25%    50%     75%    max\nWeight   21.0   75.285714  13.054282   60.0   67.0   70.0   80.00  115.0\nHeight   21.0  180.142857   8.344374  169.0  175.0  180.0  183.00  205.0\nAge      20.0   27.650000   3.963983   22.0   25.0   27.0   28.25   40.0",
      "text/html": "<div>\n<style scoped>\n    .dataframe tbody tr th:only-of-type {\n        vertical-align: middle;\n    }\n\n    .dataframe tbody tr th {\n        vertical-align: top;\n    }\n\n    .dataframe thead th {\n        text-align: right;\n    }\n</style>\n<table border=\"1\" class=\"dataframe\">\n  <thead>\n    <tr style=\"text-align: right;\">\n      <th></th>\n      <th>count</th>\n      <th>mean</th>\n      <th>std</th>\n      <th>min</th>\n      <th>25%</th>\n      <th>50%</th>\n      <th>75%</th>\n      <th>max</th>\n    </tr>\n  </thead>\n  <tbody>\n    <tr>\n      <th>Weight</th>\n      <td>21.0</td>\n      <td>75.285714</td>\n      <td>13.054282</td>\n      <td>60.0</td>\n      <td>67.0</td>\n      <td>70.0</td>\n      <td>80.00</td>\n      <td>115.0</td>\n    </tr>\n    <tr>\n      <th>Height</th>\n      <td>21.0</td>\n      <td>180.142857</td>\n      <td>8.344374</td>\n      <td>169.0</td>\n      <td>175.0</td>\n      <td>180.0</td>\n      <td>183.00</td>\n      <td>205.0</td>\n    </tr>\n    <tr>\n      <th>Age</th>\n      <td>20.0</td>\n      <td>27.650000</td>\n      <td>3.963983</td>\n      <td>22.0</td>\n      <td>25.0</td>\n      <td>27.0</td>\n      <td>28.25</td>\n      <td>40.0</td>\n    </tr>\n  </tbody>\n</table>\n</div>"
     },
     "execution_count": 8,
     "metadata": {},
     "output_type": "execute_result"
    }
   ],
   "source": [
    "df_antro.describe().T # Descriptive statistics"
   ]
  },
  {
   "cell_type": "code",
   "execution_count": 9,
   "metadata": {
    "colab": {
     "base_uri": "https://localhost:8080/",
     "height": 297
    },
    "colab_type": "code",
    "executionInfo": {
     "elapsed": 1549,
     "status": "ok",
     "timestamp": 1579257472689,
     "user": {
      "displayName": "alessio rossi",
      "photoUrl": "https://lh3.googleusercontent.com/a-/AAuE7mA9aPDaCxlPOhekDnSc2YQpYYFiFrKFU-n6rP_Dag=s64",
      "userId": "02564430506191833573"
     },
     "user_tz": -60
    },
    "id": "W4zuITx95Wxn",
    "outputId": "500a37bc-e0ab-448c-f8a1-3193355c8b5f"
   },
   "outputs": [
    {
     "ename": "AttributeError",
     "evalue": "'PolyCollection' object has no property 'c'",
     "output_type": "error",
     "traceback": [
      "\u001B[1;31m---------------------------------------------------------------------------\u001B[0m",
      "\u001B[1;31mAttributeError\u001B[0m                            Traceback (most recent call last)",
      "Input \u001B[1;32mIn [9]\u001B[0m, in \u001B[0;36m<cell line: 5>\u001B[1;34m()\u001B[0m\n\u001B[0;32m      3\u001B[0m f,ax \u001B[38;5;241m=\u001B[39m plt\u001B[38;5;241m.\u001B[39msubplots(\u001B[38;5;241m1\u001B[39m,\u001B[38;5;241m3\u001B[39m,figsize\u001B[38;5;241m=\u001B[39m(\u001B[38;5;241m7\u001B[39m,\u001B[38;5;241m4\u001B[39m),sharey\u001B[38;5;241m=\u001B[39m\u001B[38;5;28;01mTrue\u001B[39;00m)\n\u001B[0;32m      5\u001B[0m \u001B[38;5;28;01mfor\u001B[39;00m col,i,xlabel,color \u001B[38;5;129;01min\u001B[39;00m \u001B[38;5;28mzip\u001B[39m([\u001B[38;5;124m'\u001B[39m\u001B[38;5;124mAge\u001B[39m\u001B[38;5;124m'\u001B[39m,\u001B[38;5;124m'\u001B[39m\u001B[38;5;124mWeight\u001B[39m\u001B[38;5;124m'\u001B[39m,\u001B[38;5;124m'\u001B[39m\u001B[38;5;124mHeight\u001B[39m\u001B[38;5;124m'\u001B[39m],\u001B[38;5;28mlist\u001B[39m(\u001B[38;5;28mrange\u001B[39m(\u001B[38;5;241m3\u001B[39m)),[\u001B[38;5;124m'\u001B[39m\u001B[38;5;124myears\u001B[39m\u001B[38;5;124m'\u001B[39m,\u001B[38;5;124m'\u001B[39m\u001B[38;5;124mkg\u001B[39m\u001B[38;5;124m'\u001B[39m,\u001B[38;5;124m'\u001B[39m\u001B[38;5;124mcm\u001B[39m\u001B[38;5;124m'\u001B[39m],[\u001B[38;5;124m'\u001B[39m\u001B[38;5;124mb\u001B[39m\u001B[38;5;124m'\u001B[39m,\u001B[38;5;124m'\u001B[39m\u001B[38;5;124mr\u001B[39m\u001B[38;5;124m'\u001B[39m,\u001B[38;5;124m'\u001B[39m\u001B[38;5;124mg\u001B[39m\u001B[38;5;124m'\u001B[39m]):\n\u001B[1;32m----> 6\u001B[0m     \u001B[43msns\u001B[49m\u001B[38;5;241;43m.\u001B[39;49m\u001B[43mkdeplot\u001B[49m\u001B[43m(\u001B[49m\u001B[43mdf_antro\u001B[49m\u001B[43m[\u001B[49m\u001B[43mcol\u001B[49m\u001B[43m]\u001B[49m\u001B[43m,\u001B[49m\u001B[43m \u001B[49m\u001B[43max\u001B[49m\u001B[38;5;241;43m=\u001B[39;49m\u001B[43max\u001B[49m\u001B[43m[\u001B[49m\u001B[43mi\u001B[49m\u001B[43m]\u001B[49m\u001B[43m,\u001B[49m\u001B[43m \u001B[49m\u001B[43mc\u001B[49m\u001B[38;5;241;43m=\u001B[39;49m\u001B[43mcolor\u001B[49m\u001B[43m,\u001B[49m\u001B[43m \u001B[49m\u001B[43mshade\u001B[49m\u001B[38;5;241;43m=\u001B[39;49m\u001B[38;5;28;43;01mTrue\u001B[39;49;00m\u001B[43m)\u001B[49m\n\u001B[0;32m      7\u001B[0m     ax[i]\u001B[38;5;241m.\u001B[39mset_title(col,fontsize\u001B[38;5;241m=\u001B[39m\u001B[38;5;241m20\u001B[39m)\n\u001B[0;32m      8\u001B[0m     ax[i]\u001B[38;5;241m.\u001B[39mset_xlabel(xlabel,fontsize\u001B[38;5;241m=\u001B[39m\u001B[38;5;241m13\u001B[39m)\n",
      "File \u001B[1;32mD:\\ProgramData\\Anaconda3\\envs\\TensorFlow_work\\lib\\site-packages\\seaborn\\distributions.py:1704\u001B[0m, in \u001B[0;36mkdeplot\u001B[1;34m(data, x, y, hue, weights, palette, hue_order, hue_norm, color, fill, multiple, common_norm, common_grid, cumulative, bw_method, bw_adjust, warn_singular, log_scale, levels, thresh, gridsize, cut, clip, legend, cbar, cbar_ax, cbar_kws, ax, **kwargs)\u001B[0m\n\u001B[0;32m   1701\u001B[0m p\u001B[38;5;241m.\u001B[39m_attach(ax, allowed_types\u001B[38;5;241m=\u001B[39m[\u001B[38;5;124m\"\u001B[39m\u001B[38;5;124mnumeric\u001B[39m\u001B[38;5;124m\"\u001B[39m, \u001B[38;5;124m\"\u001B[39m\u001B[38;5;124mdatetime\u001B[39m\u001B[38;5;124m\"\u001B[39m], log_scale\u001B[38;5;241m=\u001B[39mlog_scale)\n\u001B[0;32m   1703\u001B[0m method \u001B[38;5;241m=\u001B[39m ax\u001B[38;5;241m.\u001B[39mfill_between \u001B[38;5;28;01mif\u001B[39;00m fill \u001B[38;5;28;01melse\u001B[39;00m ax\u001B[38;5;241m.\u001B[39mplot\n\u001B[1;32m-> 1704\u001B[0m color \u001B[38;5;241m=\u001B[39m \u001B[43m_default_color\u001B[49m\u001B[43m(\u001B[49m\u001B[43mmethod\u001B[49m\u001B[43m,\u001B[49m\u001B[43m \u001B[49m\u001B[43mhue\u001B[49m\u001B[43m,\u001B[49m\u001B[43m \u001B[49m\u001B[43mcolor\u001B[49m\u001B[43m,\u001B[49m\u001B[43m \u001B[49m\u001B[43mkwargs\u001B[49m\u001B[43m)\u001B[49m\n\u001B[0;32m   1706\u001B[0m \u001B[38;5;28;01mif\u001B[39;00m \u001B[38;5;129;01mnot\u001B[39;00m p\u001B[38;5;241m.\u001B[39mhas_xy_data:\n\u001B[0;32m   1707\u001B[0m     \u001B[38;5;28;01mreturn\u001B[39;00m ax\n",
      "File \u001B[1;32mD:\\ProgramData\\Anaconda3\\envs\\TensorFlow_work\\lib\\site-packages\\seaborn\\utils.py:159\u001B[0m, in \u001B[0;36m_default_color\u001B[1;34m(method, hue, color, kws)\u001B[0m\n\u001B[0;32m    155\u001B[0m     \u001B[38;5;28;01mreturn\u001B[39;00m \u001B[38;5;124m\"\u001B[39m\u001B[38;5;124mC0\u001B[39m\u001B[38;5;124m\"\u001B[39m\n\u001B[0;32m    157\u001B[0m kws \u001B[38;5;241m=\u001B[39m _normalize_kwargs(kws, mpl\u001B[38;5;241m.\u001B[39mcollections\u001B[38;5;241m.\u001B[39mPolyCollection)\n\u001B[1;32m--> 159\u001B[0m scout \u001B[38;5;241m=\u001B[39m \u001B[43mmethod\u001B[49m\u001B[43m(\u001B[49m\u001B[43m[\u001B[49m\u001B[43m]\u001B[49m\u001B[43m,\u001B[49m\u001B[43m \u001B[49m\u001B[43m[\u001B[49m\u001B[43m]\u001B[49m\u001B[43m,\u001B[49m\u001B[43m \u001B[49m\u001B[38;5;241;43m*\u001B[39;49m\u001B[38;5;241;43m*\u001B[39;49m\u001B[43mkws\u001B[49m\u001B[43m)\u001B[49m\n\u001B[0;32m    160\u001B[0m facecolor \u001B[38;5;241m=\u001B[39m scout\u001B[38;5;241m.\u001B[39mget_facecolor()\n\u001B[0;32m    161\u001B[0m color \u001B[38;5;241m=\u001B[39m to_rgb(facecolor[\u001B[38;5;241m0\u001B[39m])\n",
      "File \u001B[1;32mD:\\ProgramData\\Anaconda3\\envs\\TensorFlow_work\\lib\\site-packages\\matplotlib\\__init__.py:1414\u001B[0m, in \u001B[0;36m_preprocess_data.<locals>.inner\u001B[1;34m(ax, data, *args, **kwargs)\u001B[0m\n\u001B[0;32m   1411\u001B[0m \u001B[38;5;129m@functools\u001B[39m\u001B[38;5;241m.\u001B[39mwraps(func)\n\u001B[0;32m   1412\u001B[0m \u001B[38;5;28;01mdef\u001B[39;00m \u001B[38;5;21minner\u001B[39m(ax, \u001B[38;5;241m*\u001B[39margs, data\u001B[38;5;241m=\u001B[39m\u001B[38;5;28;01mNone\u001B[39;00m, \u001B[38;5;241m*\u001B[39m\u001B[38;5;241m*\u001B[39mkwargs):\n\u001B[0;32m   1413\u001B[0m     \u001B[38;5;28;01mif\u001B[39;00m data \u001B[38;5;129;01mis\u001B[39;00m \u001B[38;5;28;01mNone\u001B[39;00m:\n\u001B[1;32m-> 1414\u001B[0m         \u001B[38;5;28;01mreturn\u001B[39;00m \u001B[43mfunc\u001B[49m\u001B[43m(\u001B[49m\u001B[43max\u001B[49m\u001B[43m,\u001B[49m\u001B[43m \u001B[49m\u001B[38;5;241;43m*\u001B[39;49m\u001B[38;5;28;43mmap\u001B[39;49m\u001B[43m(\u001B[49m\u001B[43msanitize_sequence\u001B[49m\u001B[43m,\u001B[49m\u001B[43m \u001B[49m\u001B[43margs\u001B[49m\u001B[43m)\u001B[49m\u001B[43m,\u001B[49m\u001B[43m \u001B[49m\u001B[38;5;241;43m*\u001B[39;49m\u001B[38;5;241;43m*\u001B[39;49m\u001B[43mkwargs\u001B[49m\u001B[43m)\u001B[49m\n\u001B[0;32m   1416\u001B[0m     bound \u001B[38;5;241m=\u001B[39m new_sig\u001B[38;5;241m.\u001B[39mbind(ax, \u001B[38;5;241m*\u001B[39margs, \u001B[38;5;241m*\u001B[39m\u001B[38;5;241m*\u001B[39mkwargs)\n\u001B[0;32m   1417\u001B[0m     auto_label \u001B[38;5;241m=\u001B[39m (bound\u001B[38;5;241m.\u001B[39marguments\u001B[38;5;241m.\u001B[39mget(label_namer)\n\u001B[0;32m   1418\u001B[0m                   \u001B[38;5;129;01mor\u001B[39;00m bound\u001B[38;5;241m.\u001B[39mkwargs\u001B[38;5;241m.\u001B[39mget(label_namer))\n",
      "File \u001B[1;32mD:\\ProgramData\\Anaconda3\\envs\\TensorFlow_work\\lib\\site-packages\\matplotlib\\axes\\_axes.py:5251\u001B[0m, in \u001B[0;36mAxes.fill_between\u001B[1;34m(self, x, y1, y2, where, interpolate, step, **kwargs)\u001B[0m\n\u001B[0;32m   5249\u001B[0m \u001B[38;5;28;01mdef\u001B[39;00m \u001B[38;5;21mfill_between\u001B[39m(\u001B[38;5;28mself\u001B[39m, x, y1, y2\u001B[38;5;241m=\u001B[39m\u001B[38;5;241m0\u001B[39m, where\u001B[38;5;241m=\u001B[39m\u001B[38;5;28;01mNone\u001B[39;00m, interpolate\u001B[38;5;241m=\u001B[39m\u001B[38;5;28;01mFalse\u001B[39;00m,\n\u001B[0;32m   5250\u001B[0m                  step\u001B[38;5;241m=\u001B[39m\u001B[38;5;28;01mNone\u001B[39;00m, \u001B[38;5;241m*\u001B[39m\u001B[38;5;241m*\u001B[39mkwargs):\n\u001B[1;32m-> 5251\u001B[0m     \u001B[38;5;28;01mreturn\u001B[39;00m \u001B[38;5;28;43mself\u001B[39;49m\u001B[38;5;241;43m.\u001B[39;49m\u001B[43m_fill_between_x_or_y\u001B[49m\u001B[43m(\u001B[49m\n\u001B[0;32m   5252\u001B[0m \u001B[43m        \u001B[49m\u001B[38;5;124;43m\"\u001B[39;49m\u001B[38;5;124;43mx\u001B[39;49m\u001B[38;5;124;43m\"\u001B[39;49m\u001B[43m,\u001B[49m\u001B[43m \u001B[49m\u001B[43mx\u001B[49m\u001B[43m,\u001B[49m\u001B[43m \u001B[49m\u001B[43my1\u001B[49m\u001B[43m,\u001B[49m\u001B[43m \u001B[49m\u001B[43my2\u001B[49m\u001B[43m,\u001B[49m\n\u001B[0;32m   5253\u001B[0m \u001B[43m        \u001B[49m\u001B[43mwhere\u001B[49m\u001B[38;5;241;43m=\u001B[39;49m\u001B[43mwhere\u001B[49m\u001B[43m,\u001B[49m\u001B[43m \u001B[49m\u001B[43minterpolate\u001B[49m\u001B[38;5;241;43m=\u001B[39;49m\u001B[43minterpolate\u001B[49m\u001B[43m,\u001B[49m\u001B[43m \u001B[49m\u001B[43mstep\u001B[49m\u001B[38;5;241;43m=\u001B[39;49m\u001B[43mstep\u001B[49m\u001B[43m,\u001B[49m\u001B[43m \u001B[49m\u001B[38;5;241;43m*\u001B[39;49m\u001B[38;5;241;43m*\u001B[39;49m\u001B[43mkwargs\u001B[49m\u001B[43m)\u001B[49m\n",
      "File \u001B[1;32mD:\\ProgramData\\Anaconda3\\envs\\TensorFlow_work\\lib\\site-packages\\matplotlib\\axes\\_axes.py:5237\u001B[0m, in \u001B[0;36mAxes._fill_between_x_or_y\u001B[1;34m(self, ind_dir, ind, dep1, dep2, where, interpolate, step, **kwargs)\u001B[0m\n\u001B[0;32m   5233\u001B[0m         pts \u001B[38;5;241m=\u001B[39m pts[:, ::\u001B[38;5;241m-\u001B[39m\u001B[38;5;241m1\u001B[39m]\n\u001B[0;32m   5235\u001B[0m     polys\u001B[38;5;241m.\u001B[39mappend(pts)\n\u001B[1;32m-> 5237\u001B[0m collection \u001B[38;5;241m=\u001B[39m \u001B[43mmcoll\u001B[49m\u001B[38;5;241;43m.\u001B[39;49m\u001B[43mPolyCollection\u001B[49m\u001B[43m(\u001B[49m\u001B[43mpolys\u001B[49m\u001B[43m,\u001B[49m\u001B[43m \u001B[49m\u001B[38;5;241;43m*\u001B[39;49m\u001B[38;5;241;43m*\u001B[39;49m\u001B[43mkwargs\u001B[49m\u001B[43m)\u001B[49m\n\u001B[0;32m   5239\u001B[0m \u001B[38;5;66;03m# now update the datalim and autoscale\u001B[39;00m\n\u001B[0;32m   5240\u001B[0m pts \u001B[38;5;241m=\u001B[39m np\u001B[38;5;241m.\u001B[39mrow_stack([np\u001B[38;5;241m.\u001B[39mcolumn_stack([ind[where], dep1[where]]),\n\u001B[0;32m   5241\u001B[0m                     np\u001B[38;5;241m.\u001B[39mcolumn_stack([ind[where], dep2[where]])])\n",
      "File \u001B[1;32mD:\\ProgramData\\Anaconda3\\envs\\TensorFlow_work\\lib\\site-packages\\matplotlib\\collections.py:1186\u001B[0m, in \u001B[0;36mPolyCollection.__init__\u001B[1;34m(self, verts, sizes, closed, **kwargs)\u001B[0m\n\u001B[0;32m   1166\u001B[0m \u001B[38;5;28;01mdef\u001B[39;00m \u001B[38;5;21m__init__\u001B[39m(\u001B[38;5;28mself\u001B[39m, verts, sizes\u001B[38;5;241m=\u001B[39m\u001B[38;5;28;01mNone\u001B[39;00m, closed\u001B[38;5;241m=\u001B[39m\u001B[38;5;28;01mTrue\u001B[39;00m, \u001B[38;5;241m*\u001B[39m\u001B[38;5;241m*\u001B[39mkwargs):\n\u001B[0;32m   1167\u001B[0m     \u001B[38;5;124;03m\"\"\"\u001B[39;00m\n\u001B[0;32m   1168\u001B[0m \u001B[38;5;124;03m    Parameters\u001B[39;00m\n\u001B[0;32m   1169\u001B[0m \u001B[38;5;124;03m    ----------\u001B[39;00m\n\u001B[1;32m   (...)\u001B[0m\n\u001B[0;32m   1184\u001B[0m \u001B[38;5;124;03m        Forwarded to `.Collection`.\u001B[39;00m\n\u001B[0;32m   1185\u001B[0m \u001B[38;5;124;03m    \"\"\"\u001B[39;00m\n\u001B[1;32m-> 1186\u001B[0m     \u001B[38;5;28;43msuper\u001B[39;49m\u001B[43m(\u001B[49m\u001B[43m)\u001B[49m\u001B[38;5;241;43m.\u001B[39;49m\u001B[38;5;21;43m__init__\u001B[39;49m\u001B[43m(\u001B[49m\u001B[38;5;241;43m*\u001B[39;49m\u001B[38;5;241;43m*\u001B[39;49m\u001B[43mkwargs\u001B[49m\u001B[43m)\u001B[49m\n\u001B[0;32m   1187\u001B[0m     \u001B[38;5;28mself\u001B[39m\u001B[38;5;241m.\u001B[39mset_sizes(sizes)\n\u001B[0;32m   1188\u001B[0m     \u001B[38;5;28mself\u001B[39m\u001B[38;5;241m.\u001B[39mset_verts(verts, closed)\n",
      "File \u001B[1;32mD:\\ProgramData\\Anaconda3\\envs\\TensorFlow_work\\lib\\site-packages\\matplotlib\\collections.py:217\u001B[0m, in \u001B[0;36mCollection.__init__\u001B[1;34m(self, edgecolors, facecolors, linewidths, linestyles, capstyle, joinstyle, antialiaseds, offsets, transOffset, norm, cmap, pickradius, hatch, urls, zorder, **kwargs)\u001B[0m\n\u001B[0;32m    214\u001B[0m \u001B[38;5;28mself\u001B[39m\u001B[38;5;241m.\u001B[39m_transOffset \u001B[38;5;241m=\u001B[39m transOffset\n\u001B[0;32m    216\u001B[0m \u001B[38;5;28mself\u001B[39m\u001B[38;5;241m.\u001B[39m_path_effects \u001B[38;5;241m=\u001B[39m \u001B[38;5;28;01mNone\u001B[39;00m\n\u001B[1;32m--> 217\u001B[0m \u001B[38;5;28;43mself\u001B[39;49m\u001B[38;5;241;43m.\u001B[39;49m\u001B[43mupdate\u001B[49m\u001B[43m(\u001B[49m\u001B[43mkwargs\u001B[49m\u001B[43m)\u001B[49m\n\u001B[0;32m    218\u001B[0m \u001B[38;5;28mself\u001B[39m\u001B[38;5;241m.\u001B[39m_paths \u001B[38;5;241m=\u001B[39m \u001B[38;5;28;01mNone\u001B[39;00m\n",
      "File \u001B[1;32mD:\\ProgramData\\Anaconda3\\envs\\TensorFlow_work\\lib\\site-packages\\matplotlib\\artist.py:1067\u001B[0m, in \u001B[0;36mArtist.update\u001B[1;34m(self, props)\u001B[0m\n\u001B[0;32m   1065\u001B[0m             func \u001B[38;5;241m=\u001B[39m \u001B[38;5;28mgetattr\u001B[39m(\u001B[38;5;28mself\u001B[39m, \u001B[38;5;124mf\u001B[39m\u001B[38;5;124m\"\u001B[39m\u001B[38;5;124mset_\u001B[39m\u001B[38;5;132;01m{\u001B[39;00mk\u001B[38;5;132;01m}\u001B[39;00m\u001B[38;5;124m\"\u001B[39m, \u001B[38;5;28;01mNone\u001B[39;00m)\n\u001B[0;32m   1066\u001B[0m             \u001B[38;5;28;01mif\u001B[39;00m \u001B[38;5;129;01mnot\u001B[39;00m callable(func):\n\u001B[1;32m-> 1067\u001B[0m                 \u001B[38;5;28;01mraise\u001B[39;00m \u001B[38;5;167;01mAttributeError\u001B[39;00m(\u001B[38;5;124mf\u001B[39m\u001B[38;5;124m\"\u001B[39m\u001B[38;5;132;01m{\u001B[39;00m\u001B[38;5;28mtype\u001B[39m(\u001B[38;5;28mself\u001B[39m)\u001B[38;5;241m.\u001B[39m\u001B[38;5;18m__name__\u001B[39m\u001B[38;5;132;01m!r}\u001B[39;00m\u001B[38;5;124m object \u001B[39m\u001B[38;5;124m\"\u001B[39m\n\u001B[0;32m   1068\u001B[0m                                      \u001B[38;5;124mf\u001B[39m\u001B[38;5;124m\"\u001B[39m\u001B[38;5;124mhas no property \u001B[39m\u001B[38;5;132;01m{\u001B[39;00mk\u001B[38;5;132;01m!r}\u001B[39;00m\u001B[38;5;124m\"\u001B[39m)\n\u001B[0;32m   1069\u001B[0m             ret\u001B[38;5;241m.\u001B[39mappend(func(v))\n\u001B[0;32m   1070\u001B[0m \u001B[38;5;28;01mif\u001B[39;00m ret:\n",
      "\u001B[1;31mAttributeError\u001B[0m: 'PolyCollection' object has no property 'c'"
     ]
    },
    {
     "data": {
      "text/plain": "<Figure size 700x400 with 3 Axes>",
      "image/png": "[encoded data removed]"
     },
     "metadata": {},
     "output_type": "display_data"
    }
   ],
   "source": [
    "# Density plot of the users' antropometric characteristic distributions\n",
    "\n",
    "f,ax = plt.subplots(1,3,figsize=(7,4),sharey=True)\n",
    "\n",
    "for col,i,xlabel,color in zip(['Age','Weight','Height'],list(range(3)),['years','kg','cm'],['b','r','g']):\n",
    "    sns.kdeplot(df_antro[col], ax=ax[i], c=color, shade=True)\n",
    "    ax[i].set_title(col,fontsize=20)\n",
    "    ax[i].set_xlabel(xlabel,fontsize=13)\n",
    "    ax[i].legend().set_visible(False)\n",
    "\n",
    "ax[0].set_ylabel('density',fontsize=13)\n",
    "\n",
    "f.tight_layout()\n",
    "plt.show()"
   ]
  },
  {
   "cell_type": "markdown",
   "metadata": {
    "colab_type": "text",
    "id": "87B5LPNMRo-A"
   },
   "source": [
    "### Questionnaire"
   ]
  },
  {
   "cell_type": "code",
   "execution_count": 7,
   "metadata": {
    "colab": {},
    "colab_type": "code",
    "id": "oAuN1o0IvYJu"
   },
   "outputs": [],
   "source": [
    "df_question = open_data.create_dataset(users,'questionnaire') # Import dataset with questionnaire data"
   ]
  },
  {
   "cell_type": "code",
   "execution_count": 8,
   "metadata": {
    "colab": {
     "base_uri": "https://localhost:8080/",
     "height": 645
    },
    "colab_type": "code",
    "executionInfo": {
     "elapsed": 655,
     "status": "ok",
     "timestamp": 1581930213752,
     "user": {
      "displayName": "alessio rossi",
      "photoUrl": "https://lh3.googleusercontent.com/a-/AAuE7mA9aPDaCxlPOhekDnSc2YQpYYFiFrKFU-n6rP_Dag=s64",
      "userId": "02564430506191833573"
     },
     "user_tz": -60
    },
    "id": "ziCTdEzw1DS3",
    "outputId": "b94f73ce-e159-417d-f9e4-db62b86f6c4e"
   },
   "outputs": [
    {
     "data": {
      "text/html": [
       "<div>\n",
       "<style scoped>\n",
       "    .dataframe tbody tr th:only-of-type {\n",
       "        vertical-align: middle;\n",
       "    }\n",
       "\n",
       "    .dataframe tbody tr th {\n",
       "        vertical-align: top;\n",
       "    }\n",
       "\n",
       "    .dataframe thead th {\n",
       "        text-align: right;\n",
       "    }\n",
       "</style>\n",
       "<table border=\"1\" class=\"dataframe\">\n",
       "  <thead>\n",
       "    <tr style=\"text-align: right;\">\n",
       "      <th></th>\n",
       "      <th>count</th>\n",
       "      <th>mean</th>\n",
       "      <th>std</th>\n",
       "      <th>min</th>\n",
       "      <th>25%</th>\n",
       "      <th>50%</th>\n",
       "      <th>75%</th>\n",
       "      <th>max</th>\n",
       "    </tr>\n",
       "  </thead>\n",
       "  <tbody>\n",
       "    <tr>\n",
       "      <th>MEQ</th>\n",
       "      <td>21.0</td>\n",
       "      <td>50.619048</td>\n",
       "      <td>7.053199</td>\n",
       "      <td>38.0</td>\n",
       "      <td>46.0</td>\n",
       "      <td>50.0</td>\n",
       "      <td>55.00</td>\n",
       "      <td>64.0</td>\n",
       "    </tr>\n",
       "    <tr>\n",
       "      <th>STAI1</th>\n",
       "      <td>21.0</td>\n",
       "      <td>35.619048</td>\n",
       "      <td>8.535082</td>\n",
       "      <td>24.0</td>\n",
       "      <td>29.0</td>\n",
       "      <td>33.0</td>\n",
       "      <td>41.00</td>\n",
       "      <td>54.0</td>\n",
       "    </tr>\n",
       "    <tr>\n",
       "      <th>STAI2</th>\n",
       "      <td>20.0</td>\n",
       "      <td>41.400000</td>\n",
       "      <td>5.557356</td>\n",
       "      <td>27.0</td>\n",
       "      <td>39.0</td>\n",
       "      <td>42.5</td>\n",
       "      <td>45.25</td>\n",
       "      <td>49.0</td>\n",
       "    </tr>\n",
       "    <tr>\n",
       "      <th>Pittsburgh</th>\n",
       "      <td>21.0</td>\n",
       "      <td>5.142857</td>\n",
       "      <td>1.851640</td>\n",
       "      <td>2.0</td>\n",
       "      <td>4.0</td>\n",
       "      <td>5.0</td>\n",
       "      <td>7.00</td>\n",
       "      <td>9.0</td>\n",
       "    </tr>\n",
       "    <tr>\n",
       "      <th>Daily_stress</th>\n",
       "      <td>21.0</td>\n",
       "      <td>31.904762</td>\n",
       "      <td>16.646035</td>\n",
       "      <td>10.0</td>\n",
       "      <td>22.0</td>\n",
       "      <td>30.0</td>\n",
       "      <td>41.00</td>\n",
       "      <td>74.0</td>\n",
       "    </tr>\n",
       "    <tr>\n",
       "      <th>BISBAS_bis</th>\n",
       "      <td>21.0</td>\n",
       "      <td>22.428571</td>\n",
       "      <td>2.461126</td>\n",
       "      <td>19.0</td>\n",
       "      <td>20.0</td>\n",
       "      <td>22.0</td>\n",
       "      <td>24.00</td>\n",
       "      <td>26.0</td>\n",
       "    </tr>\n",
       "    <tr>\n",
       "      <th>BISBAS_reward</th>\n",
       "      <td>21.0</td>\n",
       "      <td>19.619048</td>\n",
       "      <td>2.692140</td>\n",
       "      <td>14.0</td>\n",
       "      <td>18.0</td>\n",
       "      <td>19.0</td>\n",
       "      <td>21.00</td>\n",
       "      <td>25.0</td>\n",
       "    </tr>\n",
       "    <tr>\n",
       "      <th>BISBAS_drive</th>\n",
       "      <td>21.0</td>\n",
       "      <td>12.142857</td>\n",
       "      <td>2.080522</td>\n",
       "      <td>8.0</td>\n",
       "      <td>11.0</td>\n",
       "      <td>12.0</td>\n",
       "      <td>14.00</td>\n",
       "      <td>16.0</td>\n",
       "    </tr>\n",
       "    <tr>\n",
       "      <th>BISBAS_fun</th>\n",
       "      <td>21.0</td>\n",
       "      <td>10.857143</td>\n",
       "      <td>3.468223</td>\n",
       "      <td>5.0</td>\n",
       "      <td>8.0</td>\n",
       "      <td>11.0</td>\n",
       "      <td>14.00</td>\n",
       "      <td>16.0</td>\n",
       "    </tr>\n",
       "    <tr>\n",
       "      <th>panas_pos_10</th>\n",
       "      <td>21.0</td>\n",
       "      <td>27.190476</td>\n",
       "      <td>4.791858</td>\n",
       "      <td>21.0</td>\n",
       "      <td>23.0</td>\n",
       "      <td>28.0</td>\n",
       "      <td>30.00</td>\n",
       "      <td>37.0</td>\n",
       "    </tr>\n",
       "    <tr>\n",
       "      <th>panas_pos_14</th>\n",
       "      <td>20.0</td>\n",
       "      <td>23.250000</td>\n",
       "      <td>5.793599</td>\n",
       "      <td>13.0</td>\n",
       "      <td>19.5</td>\n",
       "      <td>23.5</td>\n",
       "      <td>27.00</td>\n",
       "      <td>34.0</td>\n",
       "    </tr>\n",
       "    <tr>\n",
       "      <th>panas_pos_18</th>\n",
       "      <td>21.0</td>\n",
       "      <td>24.809524</td>\n",
       "      <td>6.169433</td>\n",
       "      <td>12.0</td>\n",
       "      <td>21.0</td>\n",
       "      <td>25.0</td>\n",
       "      <td>30.00</td>\n",
       "      <td>36.0</td>\n",
       "    </tr>\n",
       "    <tr>\n",
       "      <th>panas_pos_22</th>\n",
       "      <td>21.0</td>\n",
       "      <td>20.428571</td>\n",
       "      <td>5.249490</td>\n",
       "      <td>11.0</td>\n",
       "      <td>17.0</td>\n",
       "      <td>20.0</td>\n",
       "      <td>24.00</td>\n",
       "      <td>30.0</td>\n",
       "    </tr>\n",
       "    <tr>\n",
       "      <th>panas_pos_9+1</th>\n",
       "      <td>21.0</td>\n",
       "      <td>23.380952</td>\n",
       "      <td>6.176376</td>\n",
       "      <td>13.0</td>\n",
       "      <td>20.0</td>\n",
       "      <td>24.0</td>\n",
       "      <td>26.00</td>\n",
       "      <td>35.0</td>\n",
       "    </tr>\n",
       "    <tr>\n",
       "      <th>panas_neg_10</th>\n",
       "      <td>21.0</td>\n",
       "      <td>14.333333</td>\n",
       "      <td>4.725816</td>\n",
       "      <td>10.0</td>\n",
       "      <td>11.0</td>\n",
       "      <td>13.0</td>\n",
       "      <td>15.00</td>\n",
       "      <td>26.0</td>\n",
       "    </tr>\n",
       "    <tr>\n",
       "      <th>panas_neg_14</th>\n",
       "      <td>20.0</td>\n",
       "      <td>14.650000</td>\n",
       "      <td>4.579991</td>\n",
       "      <td>10.0</td>\n",
       "      <td>12.0</td>\n",
       "      <td>13.0</td>\n",
       "      <td>15.25</td>\n",
       "      <td>29.0</td>\n",
       "    </tr>\n",
       "    <tr>\n",
       "      <th>panas_neg_18</th>\n",
       "      <td>21.0</td>\n",
       "      <td>15.428571</td>\n",
       "      <td>4.284524</td>\n",
       "      <td>10.0</td>\n",
       "      <td>11.0</td>\n",
       "      <td>15.0</td>\n",
       "      <td>18.00</td>\n",
       "      <td>24.0</td>\n",
       "    </tr>\n",
       "    <tr>\n",
       "      <th>panas_neg_22</th>\n",
       "      <td>21.0</td>\n",
       "      <td>14.952381</td>\n",
       "      <td>4.080149</td>\n",
       "      <td>10.0</td>\n",
       "      <td>13.0</td>\n",
       "      <td>14.0</td>\n",
       "      <td>15.00</td>\n",
       "      <td>27.0</td>\n",
       "    </tr>\n",
       "    <tr>\n",
       "      <th>panas_neg_9+1</th>\n",
       "      <td>21.0</td>\n",
       "      <td>13.000000</td>\n",
       "      <td>2.366432</td>\n",
       "      <td>10.0</td>\n",
       "      <td>11.0</td>\n",
       "      <td>13.0</td>\n",
       "      <td>14.00</td>\n",
       "      <td>18.0</td>\n",
       "    </tr>\n",
       "  </tbody>\n",
       "</table>\n",
       "</div>"
      ],
      "text/plain": [
       "               count       mean        std   min   25%   50%    75%   max\n",
       "MEQ             21.0  50.619048   7.053199  38.0  46.0  50.0  55.00  64.0\n",
       "STAI1           21.0  35.619048   8.535082  24.0  29.0  33.0  41.00  54.0\n",
       "STAI2           20.0  41.400000   5.557356  27.0  39.0  42.5  45.25  49.0\n",
       "Pittsburgh      21.0   5.142857   1.851640   2.0   4.0   5.0   7.00   9.0\n",
       "Daily_stress    21.0  31.904762  16.646035  10.0  22.0  30.0  41.00  74.0\n",
       "BISBAS_bis      21.0  22.428571   2.461126  19.0  20.0  22.0  24.00  26.0\n",
       "BISBAS_reward   21.0  19.619048   2.692140  14.0  18.0  19.0  21.00  25.0\n",
       "BISBAS_drive    21.0  12.142857   2.080522   8.0  11.0  12.0  14.00  16.0\n",
       "BISBAS_fun      21.0  10.857143   3.468223   5.0   8.0  11.0  14.00  16.0\n",
       "panas_pos_10    21.0  27.190476   4.791858  21.0  23.0  28.0  30.00  37.0\n",
       "panas_pos_14    20.0  23.250000   5.793599  13.0  19.5  23.5  27.00  34.0\n",
       "panas_pos_18    21.0  24.809524   6.169433  12.0  21.0  25.0  30.00  36.0\n",
       "panas_pos_22    21.0  20.428571   5.249490  11.0  17.0  20.0  24.00  30.0\n",
       "panas_pos_9+1   21.0  23.380952   6.176376  13.0  20.0  24.0  26.00  35.0\n",
       "panas_neg_10    21.0  14.333333   4.725816  10.0  11.0  13.0  15.00  26.0\n",
       "panas_neg_14    20.0  14.650000   4.579991  10.0  12.0  13.0  15.25  29.0\n",
       "panas_neg_18    21.0  15.428571   4.284524  10.0  11.0  15.0  18.00  24.0\n",
       "panas_neg_22    21.0  14.952381   4.080149  10.0  13.0  14.0  15.00  27.0\n",
       "panas_neg_9+1   21.0  13.000000   2.366432  10.0  11.0  13.0  14.00  18.0"
      ]
     },
     "execution_count": 8,
     "metadata": {},
     "output_type": "execute_result"
    }
   ],
   "source": [
    "df_question.describe().T # Descriptive statistics"
   ]
  },
  {
   "cell_type": "code",
   "execution_count": 10,
   "metadata": {
    "colab": {},
    "colab_type": "code",
    "id": "2tgU1u2JRb-6"
   },
   "outputs": [
    {
     "data": {
      "image/png": "[encoded data removed]",
      "text/plain": [
       "<Figure size 432x288 with 1 Axes>"
      ]
     },
     "metadata": {},
     "output_type": "display_data"
    }
   ],
   "source": [
    "# Boxplot BIS/BAS for each component\n",
    "\n",
    "df_group_BISBAS = pd.DataFrame()\n",
    "for col in ['BISBAS_bis','BISBAS_reward','BISBAS_drive','BISBAS_fun']:\n",
    "    df_BISBAS = pd.DataFrame(df_question[col]).rename(columns={col:'BISBAS'})\n",
    "    df_BISBAS['var'] = col\n",
    "    df_group_BISBAS = pd.concat([df_group_BISBAS,df_BISBAS])\n",
    "    \n",
    "f,ax = plt.subplots()\n",
    "sns.boxenplot(df_group_BISBAS['var'],df_group_BISBAS['BISBAS'], ax=ax)\n",
    "plt.xticks(list(range(4)),['bis','reward','drive','fun'])\n",
    "ax.set_xlabel('')\n",
    "ax.set_ylabel('values',fontsize=15)\n",
    "ax.set_title('BIS/BAS',fontsize=20)\n",
    "f.tight_layout()\n",
    "plt.show()"
   ]
  },
  {
   "cell_type": "code",
   "execution_count": 11,
   "metadata": {
    "colab": {},
    "colab_type": "code",
    "id": "-v83T2CahV4o"
   },
   "outputs": [
    {
     "data": {
      "image/png": "[encoded data removed]",
      "text/plain": [
       "<Figure size 432x288 with 1 Axes>"
      ]
     },
     "metadata": {},
     "output_type": "display_data"
    }
   ],
   "source": [
    "# Daily evolution of Positive and Negative emotions (PANAS)\n",
    "\n",
    "df_group_Panas = pd.DataFrame()\n",
    "for col in ['panas_pos_10','panas_pos_14','panas_pos_18','panas_pos_22','panas_pos_9+1']:\n",
    "    df_PANAS = pd.DataFrame(df_question[col]).rename(columns={col:'PANAS'})\n",
    "    df_PANAS['var'] = col\n",
    "    df_PANAS['emotion'] = 'positive'\n",
    "    df_group_Panas = pd.concat([df_group_Panas,df_PANAS])\n",
    "\n",
    "for col in ['panas_neg_10','panas_neg_14','panas_neg_18','panas_neg_22','panas_neg_9+1']:\n",
    "    df_PANAS = pd.DataFrame(df_question[col]).rename(columns={col:'PANAS'})\n",
    "    df_PANAS['var'] = col\n",
    "    df_PANAS['emotion'] = 'negative'\n",
    "    df_group_Panas = pd.concat([df_group_Panas,df_PANAS])\n",
    "\n",
    "df_group_Panas = df_group_Panas.replace({'panas_pos_10':'1_10AM day 1','panas_pos_14':'2_2PM day 1','panas_pos_18':'3_6PM day 1','panas_pos_22':'4_10PM day 1','panas_pos_9+1':'5_9AM day 2',\n",
    "                                         'panas_neg_10':'1_10AM day 1','panas_neg_14':'2_2PM day 1','panas_neg_18':'3_6PM day 1','panas_neg_22':'4_10PM day 1','panas_neg_9+1':'5_9AM day 2'})\n",
    "\n",
    "f,ax = plt.subplots()\n",
    "sns.lineplot(x=\"var\", y=\"PANAS\", hue='emotion', data=df_group_Panas)\n",
    "plt.xticks(list(range(5)),['10AM day 1', '2PM day 1', '6PM day 1', '10PM day 1', '9AM day 2'], rotation = 20)\n",
    "ax.set_xlabel('')\n",
    "ax.set_ylabel('values',fontsize=15)\n",
    "ax.set_title('PANAS',fontsize=20)\n",
    "f.tight_layout()\n",
    "plt.show()"
   ]
  },
  {
   "cell_type": "markdown",
   "metadata": {
    "colab_type": "text",
    "id": "MEzekZqgl1IA"
   },
   "source": [
    "### Sleep"
   ]
  },
  {
   "cell_type": "code",
   "execution_count": 12,
   "metadata": {
    "colab": {},
    "colab_type": "code",
    "id": "9nLw9AhcRsqf"
   },
   "outputs": [],
   "source": [
    "df_sleep = open_data.create_dataset(users,'sleep') # Import dataset with questionnaire data"
   ]
  },
  {
   "cell_type": "code",
   "execution_count": 15,
   "metadata": {
    "colab": {
     "base_uri": "https://localhost:8080/",
     "height": 551
    },
    "colab_type": "code",
    "executionInfo": {
     "elapsed": 5696,
     "status": "ok",
     "timestamp": 1579257828530,
     "user": {
      "displayName": "alessio rossi",
      "photoUrl": "https://lh3.googleusercontent.com/a-/AAuE7mA9aPDaCxlPOhekDnSc2YQpYYFiFrKFU-n6rP_Dag=s64",
      "userId": "02564430506191833573"
     },
     "user_tz": -60
    },
    "id": "AhFPC8sXXyRq",
    "outputId": "f5e91117-516b-4176-cda2-f7bb2e3456da"
   },
   "outputs": [],
   "source": [
    "# Transform Time format in seconds. 0 refers to 12 AM, while positive and negative values refers to pre and post midnight, respectively.\n",
    "df_sleep['In Bed Time'] = [int(x.split(':')[0])*60+int(x.split(':')[1]) for x in df_sleep['In Bed Time']]\n",
    "df_sleep['In Bed Time'] = [x-24*60 if x>20*60 else x for x in df_sleep['In Bed Time']]\n",
    "\n",
    "df_sleep['Out Bed Time'] = [int(x.split(':')[0])*60+int(x.split(':')[1]) for x in df_sleep['Out Bed Time']]\n",
    "df_sleep['Out Bed Time'] = [x-24*60 if x>20*60 else x  for x in df_sleep['Out Bed Time']]\n",
    "\n",
    "df_sleep['Onset Time'] = [int(x.split(':')[0])*60+int(x.split(':')[1])for x in df_sleep['Onset Time']]\n",
    "df_sleep['Onset Time'] = [x-24*60 if x>20*60 else x  for x in df_sleep['Onset Time']]\n",
    "\n",
    "df_sleep = df_sleep.fillna(0)"
   ]
  },
  {
   "cell_type": "code",
   "execution_count": 16,
   "metadata": {},
   "outputs": [
    {
     "data": {
      "text/html": [
       "<div>\n",
       "<style scoped>\n",
       "    .dataframe tbody tr th:only-of-type {\n",
       "        vertical-align: middle;\n",
       "    }\n",
       "\n",
       "    .dataframe tbody tr th {\n",
       "        vertical-align: top;\n",
       "    }\n",
       "\n",
       "    .dataframe thead th {\n",
       "        text-align: right;\n",
       "    }\n",
       "</style>\n",
       "<table border=\"1\" class=\"dataframe\">\n",
       "  <thead>\n",
       "    <tr style=\"text-align: right;\">\n",
       "      <th></th>\n",
       "      <th>count</th>\n",
       "      <th>mean</th>\n",
       "      <th>std</th>\n",
       "      <th>min</th>\n",
       "      <th>25%</th>\n",
       "      <th>50%</th>\n",
       "      <th>75%</th>\n",
       "      <th>max</th>\n",
       "    </tr>\n",
       "  </thead>\n",
       "  <tbody>\n",
       "    <tr>\n",
       "      <th>In Bed Date</th>\n",
       "      <td>21.0</td>\n",
       "      <td>1.809524</td>\n",
       "      <td>0.402374</td>\n",
       "      <td>1.000</td>\n",
       "      <td>2.000</td>\n",
       "      <td>2.000</td>\n",
       "      <td>2.000</td>\n",
       "      <td>2.000</td>\n",
       "    </tr>\n",
       "    <tr>\n",
       "      <th>In Bed Time</th>\n",
       "      <td>21.0</td>\n",
       "      <td>50.857143</td>\n",
       "      <td>74.350041</td>\n",
       "      <td>-91.000</td>\n",
       "      <td>17.000</td>\n",
       "      <td>46.000</td>\n",
       "      <td>66.000</td>\n",
       "      <td>237.000</td>\n",
       "    </tr>\n",
       "    <tr>\n",
       "      <th>Out Bed Date</th>\n",
       "      <td>21.0</td>\n",
       "      <td>1.809524</td>\n",
       "      <td>0.402374</td>\n",
       "      <td>1.000</td>\n",
       "      <td>2.000</td>\n",
       "      <td>2.000</td>\n",
       "      <td>2.000</td>\n",
       "      <td>2.000</td>\n",
       "    </tr>\n",
       "    <tr>\n",
       "      <th>Out Bed Time</th>\n",
       "      <td>21.0</td>\n",
       "      <td>413.000000</td>\n",
       "      <td>72.602342</td>\n",
       "      <td>211.000</td>\n",
       "      <td>395.000</td>\n",
       "      <td>420.000</td>\n",
       "      <td>450.000</td>\n",
       "      <td>542.000</td>\n",
       "    </tr>\n",
       "    <tr>\n",
       "      <th>Onset Date</th>\n",
       "      <td>21.0</td>\n",
       "      <td>1.809524</td>\n",
       "      <td>0.402374</td>\n",
       "      <td>1.000</td>\n",
       "      <td>2.000</td>\n",
       "      <td>2.000</td>\n",
       "      <td>2.000</td>\n",
       "      <td>2.000</td>\n",
       "    </tr>\n",
       "    <tr>\n",
       "      <th>Onset Time</th>\n",
       "      <td>21.0</td>\n",
       "      <td>52.285714</td>\n",
       "      <td>74.223408</td>\n",
       "      <td>-88.000</td>\n",
       "      <td>20.000</td>\n",
       "      <td>46.000</td>\n",
       "      <td>69.000</td>\n",
       "      <td>237.000</td>\n",
       "    </tr>\n",
       "    <tr>\n",
       "      <th>Latency</th>\n",
       "      <td>21.0</td>\n",
       "      <td>1.428571</td>\n",
       "      <td>1.719635</td>\n",
       "      <td>0.000</td>\n",
       "      <td>0.000</td>\n",
       "      <td>0.000</td>\n",
       "      <td>3.000</td>\n",
       "      <td>4.000</td>\n",
       "    </tr>\n",
       "    <tr>\n",
       "      <th>Efficiency</th>\n",
       "      <td>21.0</td>\n",
       "      <td>83.533333</td>\n",
       "      <td>6.675675</td>\n",
       "      <td>73.490</td>\n",
       "      <td>76.470</td>\n",
       "      <td>84.920</td>\n",
       "      <td>88.070</td>\n",
       "      <td>94.230</td>\n",
       "    </tr>\n",
       "    <tr>\n",
       "      <th>Total Minutes in Bed</th>\n",
       "      <td>21.0</td>\n",
       "      <td>362.142857</td>\n",
       "      <td>79.307179</td>\n",
       "      <td>165.000</td>\n",
       "      <td>329.000</td>\n",
       "      <td>364.000</td>\n",
       "      <td>416.000</td>\n",
       "      <td>459.000</td>\n",
       "    </tr>\n",
       "    <tr>\n",
       "      <th>Total Sleep Time (TST)</th>\n",
       "      <td>21.0</td>\n",
       "      <td>300.380952</td>\n",
       "      <td>61.522741</td>\n",
       "      <td>144.000</td>\n",
       "      <td>247.000</td>\n",
       "      <td>319.000</td>\n",
       "      <td>342.000</td>\n",
       "      <td>384.000</td>\n",
       "    </tr>\n",
       "    <tr>\n",
       "      <th>Wake After Sleep Onset (WASO)</th>\n",
       "      <td>21.0</td>\n",
       "      <td>60.333333</td>\n",
       "      <td>31.159803</td>\n",
       "      <td>17.000</td>\n",
       "      <td>38.000</td>\n",
       "      <td>53.000</td>\n",
       "      <td>78.000</td>\n",
       "      <td>118.000</td>\n",
       "    </tr>\n",
       "    <tr>\n",
       "      <th>Number of Awakenings</th>\n",
       "      <td>21.0</td>\n",
       "      <td>20.000000</td>\n",
       "      <td>9.391486</td>\n",
       "      <td>9.000</td>\n",
       "      <td>13.000</td>\n",
       "      <td>19.000</td>\n",
       "      <td>21.000</td>\n",
       "      <td>44.000</td>\n",
       "    </tr>\n",
       "    <tr>\n",
       "      <th>Average Awakening Length</th>\n",
       "      <td>21.0</td>\n",
       "      <td>3.141429</td>\n",
       "      <td>1.420730</td>\n",
       "      <td>1.330</td>\n",
       "      <td>2.000</td>\n",
       "      <td>2.760</td>\n",
       "      <td>4.000</td>\n",
       "      <td>6.000</td>\n",
       "    </tr>\n",
       "    <tr>\n",
       "      <th>Movement Index</th>\n",
       "      <td>21.0</td>\n",
       "      <td>13.763952</td>\n",
       "      <td>4.313864</td>\n",
       "      <td>6.734</td>\n",
       "      <td>9.375</td>\n",
       "      <td>14.804</td>\n",
       "      <td>17.401</td>\n",
       "      <td>20.669</td>\n",
       "    </tr>\n",
       "    <tr>\n",
       "      <th>Fragmentation Index</th>\n",
       "      <td>21.0</td>\n",
       "      <td>10.825524</td>\n",
       "      <td>9.151295</td>\n",
       "      <td>0.000</td>\n",
       "      <td>0.000</td>\n",
       "      <td>10.000</td>\n",
       "      <td>15.789</td>\n",
       "      <td>28.125</td>\n",
       "    </tr>\n",
       "    <tr>\n",
       "      <th>Sleep Fragmentation Index</th>\n",
       "      <td>21.0</td>\n",
       "      <td>24.589476</td>\n",
       "      <td>11.213366</td>\n",
       "      <td>6.734</td>\n",
       "      <td>18.561</td>\n",
       "      <td>23.133</td>\n",
       "      <td>31.613</td>\n",
       "      <td>45.526</td>\n",
       "    </tr>\n",
       "  </tbody>\n",
       "</table>\n",
       "</div>"
      ],
      "text/plain": [
       "                               count        mean        std      min      25%  \\\n",
       "In Bed Date                     21.0    1.809524   0.402374    1.000    2.000   \n",
       "In Bed Time                     21.0   50.857143  74.350041  -91.000   17.000   \n",
       "Out Bed Date                    21.0    1.809524   0.402374    1.000    2.000   \n",
       "Out Bed Time                    21.0  413.000000  72.602342  211.000  395.000   \n",
       "Onset Date                      21.0    1.809524   0.402374    1.000    2.000   \n",
       "Onset Time                      21.0   52.285714  74.223408  -88.000   20.000   \n",
       "Latency                         21.0    1.428571   1.719635    0.000    0.000   \n",
       "Efficiency                      21.0   83.533333   6.675675   73.490   76.470   \n",
       "Total Minutes in Bed            21.0  362.142857  79.307179  165.000  329.000   \n",
       "Total Sleep Time (TST)          21.0  300.380952  61.522741  144.000  247.000   \n",
       "Wake After Sleep Onset (WASO)   21.0   60.333333  31.159803   17.000   38.000   \n",
       "Number of Awakenings            21.0   20.000000   9.391486    9.000   13.000   \n",
       "Average Awakening Length        21.0    3.141429   1.420730    1.330    2.000   \n",
       "Movement Index                  21.0   13.763952   4.313864    6.734    9.375   \n",
       "Fragmentation Index             21.0   10.825524   9.151295    0.000    0.000   \n",
       "Sleep Fragmentation Index       21.0   24.589476  11.213366    6.734   18.561   \n",
       "\n",
       "                                   50%      75%      max  \n",
       "In Bed Date                      2.000    2.000    2.000  \n",
       "In Bed Time                     46.000   66.000  237.000  \n",
       "Out Bed Date                     2.000    2.000    2.000  \n",
       "Out Bed Time                   420.000  450.000  542.000  \n",
       "Onset Date                       2.000    2.000    2.000  \n",
       "Onset Time                      46.000   69.000  237.000  \n",
       "Latency                          0.000    3.000    4.000  \n",
       "Efficiency                      84.920   88.070   94.230  \n",
       "Total Minutes in Bed           364.000  416.000  459.000  \n",
       "Total Sleep Time (TST)         319.000  342.000  384.000  \n",
       "Wake After Sleep Onset (WASO)   53.000   78.000  118.000  \n",
       "Number of Awakenings            19.000   21.000   44.000  \n",
       "Average Awakening Length         2.760    4.000    6.000  \n",
       "Movement Index                  14.804   17.401   20.669  \n",
       "Fragmentation Index             10.000   15.789   28.125  \n",
       "Sleep Fragmentation Index       23.133   31.613   45.526  "
      ]
     },
     "execution_count": 16,
     "metadata": {},
     "output_type": "execute_result"
    }
   ],
   "source": [
    "df_sleep.describe().T # Descriptive statistics"
   ]
  },
  {
   "cell_type": "code",
   "execution_count": 17,
   "metadata": {
    "colab": {
     "base_uri": "https://localhost:8080/",
     "height": 297
    },
    "colab_type": "code",
    "executionInfo": {
     "elapsed": 815,
     "status": "ok",
     "timestamp": 1579257831831,
     "user": {
      "displayName": "alessio rossi",
      "photoUrl": "https://lh3.googleusercontent.com/a-/AAuE7mA9aPDaCxlPOhekDnSc2YQpYYFiFrKFU-n6rP_Dag=s64",
      "userId": "02564430506191833573"
     },
     "user_tz": -60
    },
    "id": "9rrABlxHsp1y",
    "outputId": "0b15951e-eef0-45f4-ca38-51463a4cd454"
   },
   "outputs": [
    {
     "data": {
      "image/png": "[encoded data removed]",
      "text/plain": [
       "<Figure size 432x288 with 1 Axes>"
      ]
     },
     "metadata": {},
     "output_type": "display_data"
    }
   ],
   "source": [
    "# Density plot of \"In bed time\" and \"Out of bad time\" distributions\n",
    "\n",
    "f,ax = plt.subplots()\n",
    "sns.kdeplot(df_sleep['In Bed Time'], c='darkred', shade=True, linestyle='-', lw=2)\n",
    "sns.kdeplot(df_sleep['Out Bed Time'], c='darkgreen', shade=True, linestyle='-', lw=2)\n",
    "ax.set_title('Time in bed',fontsize=20)\n",
    "ax.set_ylabel('density',fontsize=15)\n",
    "ax.set_xlabel('hour of the day',fontsize=15)\n",
    "plt.xticks(list(range(-200,800,200)),['10PM','12AM','3AM','6AM','9AM'])\n",
    "f.tight_layout()\n",
    "plt.show()"
   ]
  },
  {
   "cell_type": "markdown",
   "metadata": {
    "colab_type": "text",
    "id": "3Sk5d5yFsMAB"
   },
   "source": [
    "### Activity"
   ]
  },
  {
   "cell_type": "code",
   "execution_count": 19,
   "metadata": {
    "colab": {},
    "colab_type": "code",
    "id": "RggFOwHUxYjv"
   },
   "outputs": [],
   "source": [
    "df_activity = open_data.create_dataset(users,'Activity',replace_na=False) # Import dataset with Activity diary data"
   ]
  },
  {
   "cell_type": "code",
   "execution_count": 20,
   "metadata": {
    "colab": {},
    "colab_type": "code",
    "id": "DFE5Nd90f80N"
   },
   "outputs": [],
   "source": [
    "# Create dict to map activity reported by users in the activity diary\n",
    "dict_activity = {0: 'sleeping',\n",
    "                 1: 'laying down',\n",
    "                 2: 'sitting',\n",
    "                 3: 'light movement',\n",
    "                 4: 'medium movement',\n",
    "                 5: 'heavy movement',\n",
    "                 6: 'eating',\n",
    "                 7: 'small screen usage',\n",
    "                 8: 'large screen',\n",
    "                 9: 'coffee/coke',\n",
    "                 10: 'smoking',\n",
    "                 11: 'alcohol assumption',\n",
    "                 12: 'saliva samples'}\n",
    "\n",
    "df_activity['Activity'] = df_activity['Activity'].replace(dict_activity) # maping activity"
   ]
  },
  {
   "cell_type": "code",
   "execution_count": 22,
   "metadata": {
    "colab": {},
    "colab_type": "code",
    "id": "Ym0QsaTZd4s7"
   },
   "outputs": [
    {
     "data": {
      "image/png": "[encoded data removed]",
      "text/plain": [
       "<Figure size 432x432 with 1 Axes>"
      ]
     },
     "metadata": {},
     "output_type": "display_data"
    }
   ],
   "source": [
    "df_activity_count = pd.DataFrame(Counter(df_activity['Activity']).items(),columns=['Activity','count']) # Create pandas DataFrame with actifity count\n",
    "\n",
    "# Barplot of activity counter\n",
    "sns.set(style=\"ticks\")\n",
    "f,ax = plt.subplots(figsize=(6,6))\n",
    "df_activity_count = df_activity_count.sort_values('count',ascending=False)\n",
    "sns.barplot(df_activity_count['Activity'],df_activity_count['count'],palette='Reds_r')\n",
    "plt.xlabel('')\n",
    "plt.ylabel('count',fontsize=15)\n",
    "plt.title('Activity diary',fontsize=20)\n",
    "plt.xticks(rotation=90)\n",
    "f.tight_layout()\n",
    "plt.show()"
   ]
  },
  {
   "cell_type": "markdown",
   "metadata": {
    "colab_type": "text",
    "id": "GQC2L6PVsOSw"
   },
   "source": [
    "### Actigraph"
   ]
  },
  {
   "cell_type": "code",
   "execution_count": 25,
   "metadata": {
    "colab": {},
    "colab_type": "code",
    "id": "mXMRHgbUsOa-"
   },
   "outputs": [],
   "source": [
    "df_actigraph = open_data.create_dataset(users,'Actigraph') # Import dataset with actigraph data"
   ]
  },
  {
   "cell_type": "code",
   "execution_count": 26,
   "metadata": {
    "colab": {
     "base_uri": "https://localhost:8080/",
     "height": 394
    },
    "colab_type": "code",
    "executionInfo": {
     "elapsed": 11113,
     "status": "ok",
     "timestamp": 1579257863184,
     "user": {
      "displayName": "alessio rossi",
      "photoUrl": "https://lh3.googleusercontent.com/a-/AAuE7mA9aPDaCxlPOhekDnSc2YQpYYFiFrKFU-n6rP_Dag=s64",
      "userId": "02564430506191833573"
     },
     "user_tz": -60
    },
    "id": "FsETHjkIz9GR",
    "outputId": "5a7a45e7-3f9d-444a-b1a2-cbd58e7796b6"
   },
   "outputs": [
    {
     "data": {
      "text/html": [
       "<div>\n",
       "<style scoped>\n",
       "    .dataframe tbody tr th:only-of-type {\n",
       "        vertical-align: middle;\n",
       "    }\n",
       "\n",
       "    .dataframe tbody tr th {\n",
       "        vertical-align: top;\n",
       "    }\n",
       "\n",
       "    .dataframe thead th {\n",
       "        text-align: right;\n",
       "    }\n",
       "</style>\n",
       "<table border=\"1\" class=\"dataframe\">\n",
       "  <thead>\n",
       "    <tr style=\"text-align: right;\">\n",
       "      <th></th>\n",
       "      <th>count</th>\n",
       "      <th>mean</th>\n",
       "      <th>std</th>\n",
       "      <th>min</th>\n",
       "      <th>25%</th>\n",
       "      <th>50%</th>\n",
       "      <th>75%</th>\n",
       "      <th>max</th>\n",
       "    </tr>\n",
       "  </thead>\n",
       "  <tbody>\n",
       "    <tr>\n",
       "      <th>Axis1</th>\n",
       "      <td>459687.0</td>\n",
       "      <td>49.931142</td>\n",
       "      <td>48.572667</td>\n",
       "      <td>1.0</td>\n",
       "      <td>15.00</td>\n",
       "      <td>36.00</td>\n",
       "      <td>69.00</td>\n",
       "      <td>910.00</td>\n",
       "    </tr>\n",
       "    <tr>\n",
       "      <th>Axis2</th>\n",
       "      <td>412776.0</td>\n",
       "      <td>56.285380</td>\n",
       "      <td>55.387262</td>\n",
       "      <td>1.0</td>\n",
       "      <td>17.00</td>\n",
       "      <td>41.00</td>\n",
       "      <td>76.00</td>\n",
       "      <td>793.00</td>\n",
       "    </tr>\n",
       "    <tr>\n",
       "      <th>Axis3</th>\n",
       "      <td>481858.0</td>\n",
       "      <td>56.543967</td>\n",
       "      <td>53.863007</td>\n",
       "      <td>1.0</td>\n",
       "      <td>18.00</td>\n",
       "      <td>41.00</td>\n",
       "      <td>78.00</td>\n",
       "      <td>919.00</td>\n",
       "    </tr>\n",
       "    <tr>\n",
       "      <th>Steps</th>\n",
       "      <td>232694.0</td>\n",
       "      <td>1.112418</td>\n",
       "      <td>0.338917</td>\n",
       "      <td>1.0</td>\n",
       "      <td>1.00</td>\n",
       "      <td>1.00</td>\n",
       "      <td>1.00</td>\n",
       "      <td>4.00</td>\n",
       "    </tr>\n",
       "    <tr>\n",
       "      <th>HR</th>\n",
       "      <td>1398557.0</td>\n",
       "      <td>75.613120</td>\n",
       "      <td>17.127616</td>\n",
       "      <td>3.0</td>\n",
       "      <td>63.00</td>\n",
       "      <td>73.00</td>\n",
       "      <td>85.00</td>\n",
       "      <td>251.00</td>\n",
       "    </tr>\n",
       "    <tr>\n",
       "      <th>Inclinometer Off</th>\n",
       "      <td>298359.0</td>\n",
       "      <td>1.000000</td>\n",
       "      <td>0.000000</td>\n",
       "      <td>1.0</td>\n",
       "      <td>1.00</td>\n",
       "      <td>1.00</td>\n",
       "      <td>1.00</td>\n",
       "      <td>1.00</td>\n",
       "    </tr>\n",
       "    <tr>\n",
       "      <th>Inclinometer Standing</th>\n",
       "      <td>467281.0</td>\n",
       "      <td>1.000000</td>\n",
       "      <td>0.000000</td>\n",
       "      <td>1.0</td>\n",
       "      <td>1.00</td>\n",
       "      <td>1.00</td>\n",
       "      <td>1.00</td>\n",
       "      <td>1.00</td>\n",
       "    </tr>\n",
       "    <tr>\n",
       "      <th>Inclinometer Sitting</th>\n",
       "      <td>433908.0</td>\n",
       "      <td>1.000000</td>\n",
       "      <td>0.000000</td>\n",
       "      <td>1.0</td>\n",
       "      <td>1.00</td>\n",
       "      <td>1.00</td>\n",
       "      <td>1.00</td>\n",
       "      <td>1.00</td>\n",
       "    </tr>\n",
       "    <tr>\n",
       "      <th>Inclinometer Lying</th>\n",
       "      <td>199009.0</td>\n",
       "      <td>1.000000</td>\n",
       "      <td>0.000000</td>\n",
       "      <td>1.0</td>\n",
       "      <td>1.00</td>\n",
       "      <td>1.00</td>\n",
       "      <td>1.00</td>\n",
       "      <td>1.00</td>\n",
       "    </tr>\n",
       "    <tr>\n",
       "      <th>Vector Magnitude</th>\n",
       "      <td>542835.0</td>\n",
       "      <td>89.448546</td>\n",
       "      <td>79.140751</td>\n",
       "      <td>1.0</td>\n",
       "      <td>29.15</td>\n",
       "      <td>70.83</td>\n",
       "      <td>125.28</td>\n",
       "      <td>1017.89</td>\n",
       "    </tr>\n",
       "    <tr>\n",
       "      <th>day</th>\n",
       "      <td>1398557.0</td>\n",
       "      <td>0.881012</td>\n",
       "      <td>3.842336</td>\n",
       "      <td>-29.0</td>\n",
       "      <td>1.00</td>\n",
       "      <td>1.00</td>\n",
       "      <td>2.00</td>\n",
       "      <td>2.00</td>\n",
       "    </tr>\n",
       "  </tbody>\n",
       "</table>\n",
       "</div>"
      ],
      "text/plain": [
       "                           count       mean        std   min    25%    50%  \\\n",
       "Axis1                   459687.0  49.931142  48.572667   1.0  15.00  36.00   \n",
       "Axis2                   412776.0  56.285380  55.387262   1.0  17.00  41.00   \n",
       "Axis3                   481858.0  56.543967  53.863007   1.0  18.00  41.00   \n",
       "Steps                   232694.0   1.112418   0.338917   1.0   1.00   1.00   \n",
       "HR                     1398557.0  75.613120  17.127616   3.0  63.00  73.00   \n",
       "Inclinometer Off        298359.0   1.000000   0.000000   1.0   1.00   1.00   \n",
       "Inclinometer Standing   467281.0   1.000000   0.000000   1.0   1.00   1.00   \n",
       "Inclinometer Sitting    433908.0   1.000000   0.000000   1.0   1.00   1.00   \n",
       "Inclinometer Lying      199009.0   1.000000   0.000000   1.0   1.00   1.00   \n",
       "Vector Magnitude        542835.0  89.448546  79.140751   1.0  29.15  70.83   \n",
       "day                    1398557.0   0.881012   3.842336 -29.0   1.00   1.00   \n",
       "\n",
       "                          75%      max  \n",
       "Axis1                   69.00   910.00  \n",
       "Axis2                   76.00   793.00  \n",
       "Axis3                   78.00   919.00  \n",
       "Steps                    1.00     4.00  \n",
       "HR                      85.00   251.00  \n",
       "Inclinometer Off         1.00     1.00  \n",
       "Inclinometer Standing    1.00     1.00  \n",
       "Inclinometer Sitting     1.00     1.00  \n",
       "Inclinometer Lying       1.00     1.00  \n",
       "Vector Magnitude       125.28  1017.89  \n",
       "day                      2.00     2.00  "
      ]
     },
     "execution_count": 26,
     "metadata": {},
     "output_type": "execute_result"
    }
   ],
   "source": [
    "df_actigraph.describe().T # Descriptive statistics"
   ]
  },
  {
   "cell_type": "markdown",
   "metadata": {
    "colab_type": "text",
    "id": "Y1T8n5yVsZSP"
   },
   "source": [
    "### RR-intervals"
   ]
  },
  {
   "cell_type": "code",
   "execution_count": 10,
   "metadata": {
    "colab": {},
    "colab_type": "code",
    "id": "AKih4JnP0Lpv"
   },
   "outputs": [],
   "source": [
    "df_rr = open_data.create_dataset(users,'RR',path).reset_index() # Import dataset with RR intervals data"
   ]
  },
  {
   "cell_type": "code",
   "execution_count": 11,
   "metadata": {
    "colab": {},
    "colab_type": "code",
    "id": "H6u5J_677ONJ"
   },
   "outputs": [],
   "source": [
    "# Transform Time format in seconds. 0 refers to 12 AM, while positive and negative values refers to pre and post midnight, respectively.\n",
    "df_rr['timestamp'] = [float(x.split(':')[0])*60*60 + float(x.split(':')[1])*60 + float(x.split(':')[2]) if y==1 else \n",
    "                        float(x.split(':')[0])*60*60 + float(x.split(':')[1])*60 + float(x.split(':')[2]) + 24*60*60\n",
    "                        for x,y in zip(df_rr['time'],df_rr['day'])]\n",
    "\n",
    "# Fiter ectopic beats\n",
    "df_rr['ibi_s'] = [x if x<2 else np.nan for x in df_rr['ibi_s']]\n",
    "df_rr['ibi_s'] = [x if x>0.3 else np.nan for x in df_rr['ibi_s']]\n",
    "# df_rr = df_rr.dropna()\n",
    "\n",
    "# Compute Heart Rate values from ibi\n",
    "df_rr['hr'] = [60/x for x in df_rr['ibi_s']]"
   ]
  },
  {
   "cell_type": "code",
   "execution_count": 12,
   "metadata": {
    "colab": {
     "base_uri": "https://localhost:8080/",
     "height": 112
    },
    "colab_type": "code",
    "executionInfo": {
     "elapsed": 709,
     "status": "ok",
     "timestamp": 1579191636795,
     "user": {
      "displayName": "alessio rossi",
      "photoUrl": "https://lh3.googleusercontent.com/a-/AAuE7mA9aPDaCxlPOhekDnSc2YQpYYFiFrKFU-n6rP_Dag=s64",
      "userId": "02564430506191833573"
     },
     "user_tz": -60
    },
    "id": "W1ztXm607OHL",
    "outputId": "15538463-5408-42d7-8ea9-e11654dcea2c"
   },
   "outputs": [
    {
     "data": {
      "text/plain": "           count   mean    std    min    25%    50%    75%     max\nibi_s  1665103.0   0.81   0.19   0.30   0.67   0.78   0.92    2.00\nhr     1665103.0  78.86  19.73  30.02  65.43  76.43  89.29  199.34",
      "text/html": "<div>\n<style scoped>\n    .dataframe tbody tr th:only-of-type {\n        vertical-align: middle;\n    }\n\n    .dataframe tbody tr th {\n        vertical-align: top;\n    }\n\n    .dataframe thead th {\n        text-align: right;\n    }\n</style>\n<table border=\"1\" class=\"dataframe\">\n  <thead>\n    <tr style=\"text-align: right;\">\n      <th></th>\n      <th>count</th>\n      <th>mean</th>\n      <th>std</th>\n      <th>min</th>\n      <th>25%</th>\n      <th>50%</th>\n      <th>75%</th>\n      <th>max</th>\n    </tr>\n  </thead>\n  <tbody>\n    <tr>\n      <th>ibi_s</th>\n      <td>1665103.0</td>\n      <td>0.81</td>\n      <td>0.19</td>\n      <td>0.30</td>\n      <td>0.67</td>\n      <td>0.78</td>\n      <td>0.92</td>\n      <td>2.00</td>\n    </tr>\n    <tr>\n      <th>hr</th>\n      <td>1665103.0</td>\n      <td>78.86</td>\n      <td>19.73</td>\n      <td>30.02</td>\n      <td>65.43</td>\n      <td>76.43</td>\n      <td>89.29</td>\n      <td>199.34</td>\n    </tr>\n  </tbody>\n</table>\n</div>"
     },
     "execution_count": 12,
     "metadata": {},
     "output_type": "execute_result"
    }
   ],
   "source": [
    "df_rr[['ibi_s','hr']].describe().T.round(2) # Descriptive statistics"
   ]
  },
  {
   "cell_type": "code",
   "execution_count": 13,
   "metadata": {
    "colab": {},
    "colab_type": "code",
    "id": "J2njaInqKQox"
   },
   "outputs": [
    {
     "data": {
      "text/plain": "<Figure size 600x500 with 1 Axes>",
      "image/png": "[encoded data removed]"
     },
     "metadata": {},
     "output_type": "display_data"
    },
    {
     "name": "stdout",
     "output_type": "stream",
     "text": [
      "{'amp': 10.602767798902422, 'phase': 0.5003862651438585, 'APhase': 57919.0, 'offset': 87.28893550259951, 'r2': 0.20674833281421878, 'tt': array([ 36618.,  36618.,  36619., ..., 121525., 121525., 121526.]), 'ff': array([87.51931252, 87.51931252, 87.5200834 , ..., 86.36930248,\n",
      "       86.36930248, 86.37007063])}\n"
     ]
    }
   ],
   "source": [
    "df_user_example = df_rr[df_rr['user']=='user_1'].dropna()\n",
    "res_single = circadian.fit_sin(df_user_example['timestamp'],df_user_example['hr'].rolling(60,min_periods=1).mean(),plot=True) # fit single component cosinor curves\n",
    "print(res_single)"
   ]
  },
  {
   "cell_type": "code",
   "execution_count": 11,
   "metadata": {
    "colab": {},
    "colab_type": "code",
    "id": "ggkJ-VE2ueYb"
   },
   "outputs": [],
   "source": [
    "# Single component cosinor analysis\n",
    "results = {}\n",
    "\n",
    "for user in users:\n",
    "    df_user = df_rr[df_rr['user']==user].dropna()\n",
    "    results[user] = circadian.fit_sin(df_user['timestamp'],df_user['hr'],plot=False)\n",
    "    \n",
    "df_circadian = pd.DataFrame(results)"
   ]
  },
  {
   "cell_type": "code",
   "execution_count": 12,
   "metadata": {
    "colab": {
     "base_uri": "https://localhost:8080/",
     "height": 332
    },
    "colab_type": "code",
    "executionInfo": {
     "elapsed": 903,
     "status": "ok",
     "timestamp": 1579193077458,
     "user": {
      "displayName": "alessio rossi",
      "photoUrl": "https://lh3.googleusercontent.com/a-/AAuE7mA9aPDaCxlPOhekDnSc2YQpYYFiFrKFU-n6rP_Dag=s64",
      "userId": "02564430506191833573"
     },
     "user_tz": -60
    },
    "id": "wu2OXcavKr1p",
    "outputId": "760c5e84-ecfe-4d82-da3c-0dacef257523"
   },
   "outputs": [
    {
     "data": {
      "text/html": [
       "<div>\n",
       "<style scoped>\n",
       "    .dataframe tbody tr th:only-of-type {\n",
       "        vertical-align: middle;\n",
       "    }\n",
       "\n",
       "    .dataframe tbody tr th {\n",
       "        vertical-align: top;\n",
       "    }\n",
       "\n",
       "    .dataframe thead th {\n",
       "        text-align: right;\n",
       "    }\n",
       "</style>\n",
       "<table border=\"1\" class=\"dataframe\">\n",
       "  <thead>\n",
       "    <tr style=\"text-align: right;\">\n",
       "      <th></th>\n",
       "      <th>amp</th>\n",
       "      <th>phase</th>\n",
       "      <th>offset</th>\n",
       "      <th>r2</th>\n",
       "    </tr>\n",
       "  </thead>\n",
       "  <tbody>\n",
       "    <tr>\n",
       "      <th>count</th>\n",
       "      <td>21.000000</td>\n",
       "      <td>21.000000</td>\n",
       "      <td>21.000000</td>\n",
       "      <td>21.000000</td>\n",
       "    </tr>\n",
       "    <tr>\n",
       "      <th>mean</th>\n",
       "      <td>11.420169</td>\n",
       "      <td>0.392904</td>\n",
       "      <td>76.960570</td>\n",
       "      <td>0.232420</td>\n",
       "    </tr>\n",
       "    <tr>\n",
       "      <th>std</th>\n",
       "      <td>5.322403</td>\n",
       "      <td>0.762214</td>\n",
       "      <td>6.992811</td>\n",
       "      <td>0.159349</td>\n",
       "    </tr>\n",
       "    <tr>\n",
       "      <th>min</th>\n",
       "      <td>1.039398</td>\n",
       "      <td>-1.654571</td>\n",
       "      <td>65.975072</td>\n",
       "      <td>0.001986</td>\n",
       "    </tr>\n",
       "    <tr>\n",
       "      <th>25%</th>\n",
       "      <td>7.905381</td>\n",
       "      <td>0.215904</td>\n",
       "      <td>72.567970</td>\n",
       "      <td>0.095833</td>\n",
       "    </tr>\n",
       "    <tr>\n",
       "      <th>50%</th>\n",
       "      <td>11.870312</td>\n",
       "      <td>0.564229</td>\n",
       "      <td>75.972583</td>\n",
       "      <td>0.193091</td>\n",
       "    </tr>\n",
       "    <tr>\n",
       "      <th>75%</th>\n",
       "      <td>14.307344</td>\n",
       "      <td>0.869257</td>\n",
       "      <td>78.354160</td>\n",
       "      <td>0.304527</td>\n",
       "    </tr>\n",
       "    <tr>\n",
       "      <th>max</th>\n",
       "      <td>21.847015</td>\n",
       "      <td>1.340508</td>\n",
       "      <td>92.898146</td>\n",
       "      <td>0.526205</td>\n",
       "    </tr>\n",
       "  </tbody>\n",
       "</table>\n",
       "</div>"
      ],
      "text/plain": [
       "             amp      phase     offset         r2\n",
       "count  21.000000  21.000000  21.000000  21.000000\n",
       "mean   11.420169   0.392904  76.960570   0.232420\n",
       "std     5.322403   0.762214   6.992811   0.159349\n",
       "min     1.039398  -1.654571  65.975072   0.001986\n",
       "25%     7.905381   0.215904  72.567970   0.095833\n",
       "50%    11.870312   0.564229  75.972583   0.193091\n",
       "75%    14.307344   0.869257  78.354160   0.304527\n",
       "max    21.847015   1.340508  92.898146   0.526205"
      ]
     },
     "execution_count": 12,
     "metadata": {},
     "output_type": "execute_result"
    }
   ],
   "source": [
    "df_circadian.T[['amp','phase','offset','r2']].astype(float).describe() # Descriptive statistics"
   ]
  },
  {
   "cell_type": "markdown",
   "metadata": {},
   "source": [
    "#### HRV analysis example"
   ]
  },
  {
   "cell_type": "code",
   "execution_count": 13,
   "metadata": {},
   "outputs": [
    {
     "data": {
      "image/png": "[encoded data removed]",
      "text/plain": [
       "<Figure size 720x504 with 2 Axes>"
      ]
     },
     "metadata": {},
     "output_type": "display_data"
    }
   ],
   "source": [
    "# select a 5 minutes time window for HRV analysis\n",
    "df_user[\"window\"] = df_user.timestamp.diff().dropna().cumsum().pipe(lambda x: pd.to_timedelta(x, \"s\")).dt.floor(\"5min\")\n",
    "df_window = df_user[df_user.window.astype(str) == '0 days 20:00:00.000000000']\n",
    "\n",
    "HRV_analysis.plot_HRV(df_window)"
   ]
  },
  {
   "cell_type": "markdown",
   "metadata": {
    "colab_type": "text",
    "id": "1nbatseuE1Dp"
   },
   "source": [
    "### Saliva"
   ]
  },
  {
   "cell_type": "code",
   "execution_count": 6,
   "metadata": {
    "colab": {
     "base_uri": "https://localhost:8080/",
     "height": 35
    },
    "colab_type": "code",
    "executionInfo": {
     "elapsed": 4516,
     "status": "ok",
     "timestamp": 1581504263837,
     "user": {
      "displayName": "alessio rossi",
      "photoUrl": "https://lh3.googleusercontent.com/a-/AAuE7mA9aPDaCxlPOhekDnSc2YQpYYFiFrKFU-n6rP_Dag=s64",
      "userId": "02564430506191833573"
     },
     "user_tz": -60
    },
    "id": "F_HkUFR3GLgg",
    "outputId": "4ff89871-8fab-49d9-ca95-1fd85ce901d8"
   },
   "outputs": [
    {
     "name": "stdout",
     "output_type": "stream",
     "text": [
      "NO data for user_21\n"
     ]
    }
   ],
   "source": [
    "df_saliva = open_data.create_dataset(users,'saliva') # Import dataset with saliva data"
   ]
  },
  {
   "cell_type": "code",
   "execution_count": 7,
   "metadata": {
    "colab": {
     "base_uri": "https://localhost:8080/",
     "height": 551
    },
    "colab_type": "code",
    "executionInfo": {
     "elapsed": 657,
     "status": "ok",
     "timestamp": 1581504267338,
     "user": {
      "displayName": "alessio rossi",
      "photoUrl": "https://lh3.googleusercontent.com/a-/AAuE7mA9aPDaCxlPOhekDnSc2YQpYYFiFrKFU-n6rP_Dag=s64",
      "userId": "02564430506191833573"
     },
     "user_tz": -60
    },
    "id": "BlOHdbg4I_Ep",
    "outputId": "6d0d8ce0-7ac7-4c6d-87f6-f99175262e32"
   },
   "outputs": [
    {
     "data": {
      "text/html": [
       "<div>\n",
       "<style scoped>\n",
       "    .dataframe tbody tr th:only-of-type {\n",
       "        vertical-align: middle;\n",
       "    }\n",
       "\n",
       "    .dataframe tbody tr th {\n",
       "        vertical-align: top;\n",
       "    }\n",
       "\n",
       "    .dataframe thead th {\n",
       "        text-align: right;\n",
       "    }\n",
       "</style>\n",
       "<table border=\"1\" class=\"dataframe\">\n",
       "  <thead>\n",
       "    <tr style=\"text-align: right;\">\n",
       "      <th></th>\n",
       "      <th>SAMPLES</th>\n",
       "      <th>before sleep</th>\n",
       "      <th>wake up</th>\n",
       "    </tr>\n",
       "  </thead>\n",
       "  <tbody>\n",
       "    <tr>\n",
       "      <th rowspan=\"8\" valign=\"top\">Cortisol NORM</th>\n",
       "      <th>count</th>\n",
       "      <td>2.000000e+01</td>\n",
       "      <td>2.000000e+01</td>\n",
       "    </tr>\n",
       "    <tr>\n",
       "      <th>mean</th>\n",
       "      <td>2.815678e-02</td>\n",
       "      <td>6.932549e-02</td>\n",
       "    </tr>\n",
       "    <tr>\n",
       "      <th>std</th>\n",
       "      <td>3.125744e-02</td>\n",
       "      <td>5.454448e-02</td>\n",
       "    </tr>\n",
       "    <tr>\n",
       "      <th>min</th>\n",
       "      <td>1.201710e-02</td>\n",
       "      <td>1.557236e-02</td>\n",
       "    </tr>\n",
       "    <tr>\n",
       "      <th>25%</th>\n",
       "      <td>1.513441e-02</td>\n",
       "      <td>4.110202e-02</td>\n",
       "    </tr>\n",
       "    <tr>\n",
       "      <th>50%</th>\n",
       "      <td>1.983127e-02</td>\n",
       "      <td>5.204083e-02</td>\n",
       "    </tr>\n",
       "    <tr>\n",
       "      <th>75%</th>\n",
       "      <td>2.636309e-02</td>\n",
       "      <td>8.302529e-02</td>\n",
       "    </tr>\n",
       "    <tr>\n",
       "      <th>max</th>\n",
       "      <td>1.557774e-01</td>\n",
       "      <td>2.612515e-01</td>\n",
       "    </tr>\n",
       "    <tr>\n",
       "      <th rowspan=\"8\" valign=\"top\">Melatonin NORM</th>\n",
       "      <th>count</th>\n",
       "      <td>2.000000e+01</td>\n",
       "      <td>1.900000e+01</td>\n",
       "    </tr>\n",
       "    <tr>\n",
       "      <th>mean</th>\n",
       "      <td>8.467078e-09</td>\n",
       "      <td>7.309298e-09</td>\n",
       "    </tr>\n",
       "    <tr>\n",
       "      <th>std</th>\n",
       "      <td>6.851726e-09</td>\n",
       "      <td>6.525401e-09</td>\n",
       "    </tr>\n",
       "    <tr>\n",
       "      <th>min</th>\n",
       "      <td>1.629907e-09</td>\n",
       "      <td>8.283802e-10</td>\n",
       "    </tr>\n",
       "    <tr>\n",
       "      <th>25%</th>\n",
       "      <td>3.182911e-09</td>\n",
       "      <td>3.088560e-09</td>\n",
       "    </tr>\n",
       "    <tr>\n",
       "      <th>50%</th>\n",
       "      <td>5.912706e-09</td>\n",
       "      <td>5.730512e-09</td>\n",
       "    </tr>\n",
       "    <tr>\n",
       "      <th>75%</th>\n",
       "      <td>1.190672e-08</td>\n",
       "      <td>9.146732e-09</td>\n",
       "    </tr>\n",
       "    <tr>\n",
       "      <th>max</th>\n",
       "      <td>2.396239e-08</td>\n",
       "      <td>2.853905e-08</td>\n",
       "    </tr>\n",
       "  </tbody>\n",
       "</table>\n",
       "</div>"
      ],
      "text/plain": [
       "SAMPLES               before sleep       wake up\n",
       "Cortisol NORM  count  2.000000e+01  2.000000e+01\n",
       "               mean   2.815678e-02  6.932549e-02\n",
       "               std    3.125744e-02  5.454448e-02\n",
       "               min    1.201710e-02  1.557236e-02\n",
       "               25%    1.513441e-02  4.110202e-02\n",
       "               50%    1.983127e-02  5.204083e-02\n",
       "               75%    2.636309e-02  8.302529e-02\n",
       "               max    1.557774e-01  2.612515e-01\n",
       "Melatonin NORM count  2.000000e+01  1.900000e+01\n",
       "               mean   8.467078e-09  7.309298e-09\n",
       "               std    6.851726e-09  6.525401e-09\n",
       "               min    1.629907e-09  8.283802e-10\n",
       "               25%    3.182911e-09  3.088560e-09\n",
       "               50%    5.912706e-09  5.730512e-09\n",
       "               75%    1.190672e-08  9.146732e-09\n",
       "               max    2.396239e-08  2.853905e-08"
      ]
     },
     "execution_count": 7,
     "metadata": {},
     "output_type": "execute_result"
    }
   ],
   "source": [
    "df_saliva.groupby('SAMPLES').describe().T # Descriptive statistic of hormone concentration before sleep and at wake up time"
   ]
  },
  {
   "cell_type": "code",
   "execution_count": 12,
   "metadata": {
    "colab": {
     "base_uri": "https://localhost:8080/",
     "height": 365
    },
    "colab_type": "code",
    "executionInfo": {
     "elapsed": 1243,
     "status": "ok",
     "timestamp": 1579258548527,
     "user": {
      "displayName": "alessio rossi",
      "photoUrl": "https://lh3.googleusercontent.com/a-/AAuE7mA9aPDaCxlPOhekDnSc2YQpYYFiFrKFU-n6rP_Dag=s64",
      "userId": "02564430506191833573"
     },
     "user_tz": -60
    },
    "id": "DGYOPh4YFRqp",
    "outputId": "af28a76d-69e6-4d7b-e478-1d0d1745ddde"
   },
   "outputs": [
    {
     "data": {
      "image/png": "[encoded data removed]",
      "text/plain": [
       "<Figure size 720x360 with 2 Axes>"
      ]
     },
     "metadata": {},
     "output_type": "display_data"
    }
   ],
   "source": [
    "# Line plot of Cortisol and Melatonin concentrations obtained from saliva sample. Differencebetween “before sleep” and “wake up” hormones concentration\n",
    "\n",
    "f,ax = plt.subplots(1,2,figsize=(10,5))\n",
    "for w,c in zip(['before sleep','wake up'],['g','r']):\n",
    "    df_w = df_saliva[df_saliva['SAMPLES']==w]\n",
    "    df_w = df_w[df_w['Cortisol NORM']<0.1]\n",
    "    ax[0].scatter([w]*len(df_w), df_w['Cortisol NORM'], c=c, label=w, edgecolors='k', s=100, alpha=0.8)\n",
    "ax[0].set_title('(c) Cortisol',fontsize=25)\n",
    "ax[0].set_ylabel('$\\mu g$ Cortisol / 100 $\\mu g$ Protein',fontsize=15)\n",
    "ax[0].set_xlabel('')\n",
    "plt.sca(ax[0])\n",
    "plt.xlim(-0.2,1.2)\n",
    "plt.ylim(0,0.10)\n",
    "\n",
    "for w,c in zip(['before sleep','wake up'],['g','r']):\n",
    "    df_w = df_saliva[df_saliva['SAMPLES']==w]\n",
    "    df_w = df_w[df_w['Melatonin NORM']<2.5e-8]\n",
    "    ax[1].scatter([w]*len(df_w), df_w['Melatonin NORM'], c=c, edgecolors='k', s=100, alpha=0.8)\n",
    "ax[1].set_title('(d) Melatonin',fontsize=25)\n",
    "ax[1].set_ylabel('$\\mu g$ Melatonin / $\\mu g$ Protein',fontsize=15)\n",
    "ax[1].set_xlabel('')\n",
    "plt.sca(ax[1])\n",
    "plt.xlim(-0.2,1.2)\n",
    "plt.ylim(0,2.5e-8)\n",
    "\n",
    "f.tight_layout()\n",
    "plt.show()"
   ]
  },
  {
   "cell_type": "code",
   "execution_count": null,
   "metadata": {
    "colab": {},
    "colab_type": "code",
    "id": "bkFt54-thTDg"
   },
   "outputs": [],
   "source": []
  }
 ],
 "metadata": {
  "colab": {
   "collapsed_sections": [
    "VglXhKPhwtUE",
    "GzremJZ_lVEL",
    "YmBeVQPt46dX",
    "87B5LPNMRo-A",
    "PZq3MwKtv78X",
    "TIJyEvGAv_Ok",
    "MEzekZqgl1IA",
    "3Sk5d5yFsMAB",
    "GQC2L6PVsOSw",
    "Y1T8n5yVsZSP",
    "1nbatseuE1Dp",
    "YlDhVm2kHq5W",
    "hN3YTpu9wJWf",
    "PssQjILcwIOw"
   ],
   "name": "Code_DataPaper.ipynb",
   "provenance": [],
   "toc_visible": true
  },
  "kernelspec": {
   "display_name": "Python 3",
   "language": "python",
   "name": "python3"
  },
  "language_info": {
   "codemirror_mode": {
    "name": "ipython",
    "version": 3
   },
   "file_extension": ".py",
   "mimetype": "text/x-python",
   "name": "python",
   "nbconvert_exporter": "python",
   "pygments_lexer": "ipython3",
   "version": "3.5.6"
  }
 },
 "nbformat": 4,
 "nbformat_minor": 4
}
