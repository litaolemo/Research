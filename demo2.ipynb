{
 "cells": [
  {
   "cell_type": "code",
   "execution_count": null,
   "metadata": {
    "collapsed": true,
    "id": "t_4cuNjSp7OO"
   },
   "outputs": [],
   "source": [
    "\n",
    "import heartpy as hp\n",
    "\n",
    "hrdata = hp.get_data(r'D:\\lemo下载\\rr-interval-time-series-from-healthy-subjects-1.0.0\\002.txt')\n",
    "data, _ = hp.load_exampledata(0) #this example set is sampled at 100Hz\n",
    "\n",
    "working_data, measures = hp.process(data, 128.0)\n",
    "# print(working_data)\n",
    "# print(measures['bpm']) #returns BPM value\n",
    "# print(measures['rmssd']) # returns RMSSD HRV measure"
   ]
  },
  {
   "cell_type": "code",
   "source": [
    "from google.colab import drive\n",
    "drive.mount('/content/drive')"
   ],
   "metadata": {
    "colab": {
     "base_uri": "https://localhost:8080/"
    },
    "id": "ZA5r9nCLqCpQ",
    "executionInfo": {
     "status": "ok",
     "timestamp": 1684326097277,
     "user_tz": -60,
     "elapsed": 25950,
     "user": {
      "displayName": "Tao Li",
      "userId": "12815520409101737212"
     }
    },
    "outputId": "0faf4cd6-e334-4d84-821d-2c65ed562b96"
   },
   "execution_count": 1,
   "outputs": [
    {
     "output_type": "stream",
     "name": "stdout",
     "text": [
      "Mounted at /content/drive\n"
     ]
    }
   ]
  },
  {
   "cell_type": "code",
   "execution_count": null,
   "outputs": [],
   "source": [],
   "metadata": {
    "collapsed": false
   }
  }
 ],
 "metadata": {
  "kernelspec": {
   "display_name": "Python 3",
   "language": "python",
   "name": "python3"
  },
  "language_info": {
   "codemirror_mode": {
    "name": "ipython",
    "version": 2
   },
   "file_extension": ".py",
   "mimetype": "text/x-python",
   "name": "python",
   "nbconvert_exporter": "python",
   "pygments_lexer": "ipython2",
   "version": "2.7.6"
  },
  "colab": {
   "provenance": []
  }
 },
 "nbformat": 4,
 "nbformat_minor": 0
}
